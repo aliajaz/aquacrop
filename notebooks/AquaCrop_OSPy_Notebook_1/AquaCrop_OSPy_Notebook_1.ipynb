{
 "cells": [
  {
   "cell_type": "markdown",
   "metadata": {
    "id": "F46q9WuSNxCZ"
   },
   "source": [
    "# AquaCrop-OSPy: Bridging the gap between research and practice in crop-water modelling\n"
   ]
  },
  {
   "cell_type": "markdown",
   "metadata": {},
   "source": [
    "<a href=\"https://colab.research.google.com/github/thomasdkelly/aquacrop/blob/master/tutorials/AquaCrop_OSPy_Notebook_1.ipynb\" target=\"_parent\"><img src=\"https://colab.research.google.com/assets/colab-badge.svg\" alt=\"Open in Colab\"/></a>\n"
   ]
  },
  {
   "cell_type": "markdown",
   "metadata": {
    "id": "qrRbaHsji3A-"
   },
   "source": [
    "This series of notebooks provides users with an introduction to AquaCrop-OSPy, an open-source Python implementation of the U.N. Food and Agriculture Organization (FAO) AquaCrop model. AquaCrop-OSPy is accompanied by a series of Jupyter notebooks, which guide users interactively through a range of common applications of the model. Only basic Python experience is required, and the notebooks can easily be extended and adapted by users for their own applications and needs."
   ]
  },
  {
   "cell_type": "markdown",
   "metadata": {
    "id": "YDm931IGNxCb"
   },
   "source": [
    "\n",
    "This notebook series consists of four parts:\n",
    "\n",
    "1.   <a href=https://colab.research.google.com/github/thomasdkelly/aquacrop/blob/master/tutorials/AquaCrop_OSPy_Notebook_1.ipynb>Running an AquaCrop-OSPy model</a>\n",
    "2.   <a href=https://colab.research.google.com/github/thomasdkelly/aquacrop/blob/master/tutorials/AquaCrop_OSPy_Notebook_2.ipynb>Estimation of irrigation water demands</a>\n",
    "3.   <a href=https://colab.research.google.com/github/thomasdkelly/aquacrop/blob/master/tutorials/AquaCrop_OSPy_Notebook_3.ipynb>Optimisation of irrigation management strategies</a>\n",
    "4.  <a href=https://colab.research.google.com/github/thomasdkelly/aquacrop/blob/master/tutorials/AquaCrop_OSPy_Notebook_4.ipynb>Projection of climate change impacts</a>\n"
   ]
  },
  {
   "cell_type": "markdown",
   "metadata": {
    "id": "_b5MjblTNxCf"
   },
   "source": [
    "# Notebook 1: Getting started: Running your first simulation with AquaCrop-OSPy\n",
    "\n"
   ]
  },
  {
   "cell_type": "markdown",
   "metadata": {
    "id": "wOL7nNR7khRC"
   },
   "source": [
    "In this notebook, you will learn interactively how to setup and run you first AquaCrop-OSPy simulation. We begin by showing how to define key model input parameters and variables, and then show how to execute a model simulation and interpret output files.\n",
    "\n",
    "The first of these notebooks outlines how to setup and run single and multi-season simulations for a selected cropping system. Examples are provided about how to setup and define relevant crop, soil, weather and management parameter values and inputs, with more advanced customization guides given in the Appendices A-D."
   ]
  },
  {
   "cell_type": "markdown",
   "metadata": {
    "id": "ZbONAGxfmGXD"
   },
   "source": [
    "## Notes on Google Colab\n",
    "\n",
    "If you are unfamiliar with Jupyter Notebooks or Google Colab, <a href=\"https://colab.research.google.com/notebooks/intro.ipynb\">here</a> is an introductory notebook to get you started. In short, these are computable documents that let you combine text blocks such as these (including html, LaTeX, etc.) with code blocks that you can write, edit and execute. To run the code in each cell either click the run button in the cell's top left corner or hit SHIFT-ENTER when the cell is selected. You can also navigate through the document using the table of contents on the left hand side.\n",
    "\n",
    "W recommend you save a copy of this notebook to your dive (File->Save a copy to drive). Then any changes you make to this notebook will be saved and you can open it it again at any time and carry on. "
   ]
  },
  {
   "cell_type": "markdown",
   "metadata": {
    "id": "-YNld0zqPGqr"
   },
   "source": [
    "<a id='Imports'><a/>\n",
    "\n",
    "## Imports\n",
    "\n"
   ]
  },
  {
   "cell_type": "markdown",
   "metadata": {
    "id": "-cxsh3MQoAmD"
   },
   "source": [
    "In order to use AquaCrop-OSPy inside this notebook we first need to install and import it. Installing aquacrop is as simple as running `pip install aquacrop` or `!pip install aquacrop==VERSION` to install a specific version. In cell below we also use the `output.clear` function to keep everything tidy. "
   ]
  },
  {
   "cell_type": "code",
   "execution_count": null,
   "metadata": {
    "id": "LWQ58wjpobn0"
   },
   "outputs": [],
   "source": [
    "# !pip install aquacrop==0.2\n",
    "\n",
    "# from google.colab import output\n",
    "# output.clear()"
   ]
  },
  {
   "cell_type": "code",
   "execution_count": null,
   "metadata": {},
   "outputs": [],
   "source": [
    "# only used for local development\n",
    "\n",
    "# import sys\n",
    "# _=[sys.path.append(i) for i in ['.', '..']]"
   ]
  },
  {
   "cell_type": "markdown",
   "metadata": {
    "id": "1zGeIg5wpC7K"
   },
   "source": [
    "Now that `aquacrop` is installed we need to import the various components into the notebook. All these functions do not have to be imported at once as we have done in the cell below but it will help keep things clearer throughout this notebook."
   ]
  },
  {
   "cell_type": "code",
   "execution_count": null,
   "metadata": {
    "id": "7Z4TGBQzYXQi"
   },
   "outputs": [],
   "source": [
    "# import aquacrop functions (the * simply means 'all')\n",
    "from aquacrop.classes import    *\n",
    "from aquacrop.core import       *"
   ]
  },
  {
   "cell_type": "markdown",
   "metadata": {
    "id": "6ZHNXbliriKC"
   },
   "source": [
    "# Selecting Model Components"
   ]
  },
  {
   "cell_type": "markdown",
   "metadata": {
    "id": "Zd0f66PvrvJs"
   },
   "source": [
    "Running an AquaCrop-OSPy model requires the selection of 5 components:\n",
    "\n",
    "1.   Daily climate measurements\n",
    "3.   Soil selection\n",
    "4.   Crop selection\n",
    "5.   Initial water content\n",
    "1.   Simulation start and end dates\n",
    "\n",
    "We will go through the selection of these components in turn below."
   ]
  },
  {
   "cell_type": "markdown",
   "metadata": {
    "id": "d7pNB13z2TaJ"
   },
   "source": [
    "## Climate Measurements"
   ]
  },
  {
   "cell_type": "markdown",
   "metadata": {
    "id": "Nb1Q_yhPtXbZ"
   },
   "source": [
    "AquaCrop-OSPy requires weather data to be specified over the cropping period being simulated. This includes a daily time series of minimum and maximum temperatures [C], precipitation [mm], and reference crop evapotranspiration [mm].\n",
    "\n",
    "To import these data into the model, a .txt file containing relevant weather data must be created by the user in the following space delimited format.\n",
    "\n",
    "![picture](https://drive.google.com/uc?export=view&id=1WG0gN4fCYgQs-EQXhXUvNrPktFJOZut9)\n",
    "\n",
    "If you are running this notebook locally you will need to specify the file path to the weather data file on your computer. If you are running the notebook via Google Colab you can upload the file through the tab on the left so that it is available in the current directory.\n",
    "\n",
    "![picture](https://drive.google.com/uc?export=view&id=1xTg4b1W-Nvi8kuK3ytVybTZpaWSflnNE)\n",
    "\n",
    "To load the weather data into the model, use the `prepare_weather` function, passing in the filepath of the .txt file. This `prepare_weather` function will create a pandas DataFrame in Python storing the imported weather data in the correct format for subsequent simulations.\n",
    "\n"
   ]
  },
  {
   "cell_type": "code",
   "execution_count": null,
   "metadata": {
    "colab": {
     "base_uri": "https://localhost:8080/",
     "height": 448
    },
    "id": "wV2rbJzUqc_1",
    "outputId": "1ee657f3-6828-4396-c3f7-556a20afb2ad"
   },
   "outputs": [],
   "source": [
    "# specify filepath to weather file (either locally or imported to colab)\n",
    "# filepath= 'YOUR_WEATHER_FILE.TXT'\n",
    "\n",
    "# weather_data = prepare_weather(filepath)\n",
    "# weather_data"
   ]
  },
  {
   "cell_type": "markdown",
   "metadata": {
    "id": "pr6GZHHSwAQb"
   },
   "source": [
    "AquaCrop-OSPy also contains a number of in-built example weather files. These can be accessed using the `get_filepath` function as shown below. Once run then use the `prep_weather` function as above to convert the data to a pandas DataFrame ready for use. A full list of the built-in weather files can be found in Appendix A."
   ]
  },
  {
   "cell_type": "code",
   "execution_count": null,
   "metadata": {
    "colab": {
     "base_uri": "https://localhost:8080/",
     "height": 419
    },
    "id": "uNQGElSKwPE0",
    "outputId": "0ecad12e-7c76-43b5-b309-131fd758b19c"
   },
   "outputs": [],
   "source": [
    "# locate built in weather file\n",
    "filepath=get_filepath('tunis_climate.txt')\n",
    "\n",
    "weather_data = prepare_weather(filepath)\n",
    "weather_data"
   ]
  },
  {
   "cell_type": "markdown",
   "metadata": {
    "id": "nfZ1LMjZmUQ_"
   },
   "source": [
    "## Soil"
   ]
  },
  {
   "cell_type": "markdown",
   "metadata": {
    "id": "pnimVgNRtNyT"
   },
   "source": [
    "\n",
    "\n",
    "Selecting a soil type for an AquaCrop-OSPy simulation is done via the `SoilClass` object. This object contains all the compositional and hydraulic properties needed for the simulation. The simplest way to select a `SoilClass` is to use one of the built-in soil types taken from AquaCrop defaults. A visual representation of these defaults is shown below.\n",
    "\n",
    "![picture](https://drive.google.com/uc?export=view&id=11CDRTYgYrYxsQyEwih_0jDAozIu_l-ak)\n",
    "\n",
    "As an example, to select a 'sandy loam' soil, run the cell below. Appendix B details how a user can edit any of these built-in soil types or create their own custom soil profile. "
   ]
  },
  {
   "cell_type": "code",
   "execution_count": null,
   "metadata": {
    "id": "l2itZBlsPXf6"
   },
   "outputs": [],
   "source": [
    "sandy_loam = SoilClass(soilType='SandyLoam')"
   ]
  },
  {
   "cell_type": "markdown",
   "metadata": {
    "id": "PedFdBWt2gZ4"
   },
   "source": [
    "## Crop"
   ]
  },
  {
   "cell_type": "markdown",
   "metadata": {
    "id": "EDTpNTNyXEvw"
   },
   "source": [
    "The crop type used in the simulation is selected in a similar way to soil via a `CropClass`. To select a `CropClass` you need to specify the crop type and planting date. Any of the built-in crop types (currently Maize, Wheat, Rice, Potato) can be selected by running the cell below. Appendix C details how a user can edit any of the built-in crop parameters or create custom crops. "
   ]
  },
  {
   "cell_type": "code",
   "execution_count": null,
   "metadata": {
    "id": "ZqCvx9epJjwr"
   },
   "outputs": [],
   "source": [
    "wheat = CropClass('Wheat', PlantingDate='10/01')"
   ]
  },
  {
   "cell_type": "markdown",
   "metadata": {
    "id": "s19ZMzMc4k4y"
   },
   "source": [
    "## Initial water content\n",
    "\n",
    "Specifying the intial soil-water content at the begining of the simulation is done via the `InitWCClass`. When creating an `InitWCClass`, it needs a list of locations and soil water contents. This table below details all the input paramaters for the `InitWCClass`.\n",
    "\n",
    "Variable Name | Type | Description | Default\n",
    "--- | --- | --- | ---\n",
    "wc_type| `str` | Type of value | 'Prop'\n",
    "|| 'Prop' = 'WP' / 'FC' / 'SAT' |\n",
    "|| 'Num' = XXX m3/m3 |\n",
    "|| 'Pct' = % TAW |\n",
    "Method | `str` | 'Depth' = Interpolate depth points; 'Layer' = Constant value for each soil layer | 'Layer'\n",
    "depth_layer| `list` | locations in soil profile (soil layer or depth) | [1]\n",
    "value| `list` | value at that location | ['FC']\n",
    "\n",
    "In the cell below we initialize the water content to be Field Capacity (FC) accross the whole soil profile. \n"
   ]
  },
  {
   "cell_type": "code",
   "execution_count": null,
   "metadata": {
    "id": "3PvQ5QYR49tG"
   },
   "outputs": [],
   "source": [
    "InitWC = InitWCClass(value=['FC'])"
   ]
  },
  {
   "cell_type": "markdown",
   "metadata": {
    "id": "LCVt1vn93lQY"
   },
   "source": [
    "## Model"
   ]
  },
  {
   "cell_type": "markdown",
   "metadata": {
    "id": "6c_yzyC5DWWB"
   },
   "source": [
    "Additional model components you can specify include irrigation management, field management and groundwater conditions. Details on how to specify these are detailed in Appendix D however they will both default to none if not specified. \n",
    "\n",
    "Once you have defined your weather data, `CropClass`,  `SoilClass` and `InitWCClass` then you're ready to run your simulation.\n",
    "\n",
    "\n",
    "To run a simulation we need to combine the components we have selected into an `AquaCropModel`. It is here where we specify the simulation start date and end date (YYYY/MM/DD). Running the cell below will create an AquaCropModel simulation with all the parameters we have specified so far. "
   ]
  },
  {
   "cell_type": "code",
   "execution_count": null,
   "metadata": {
    "id": "AOmiLw0eXDoZ"
   },
   "outputs": [],
   "source": [
    "# combine into aquacrop model and specify start and end simulation date\n",
    "model = AquaCropModel(SimStartTime=f'{1979}/10/01',\n",
    "                      SimEndTime=f'{1985}/05/30',\n",
    "                      wdf=weather_data,\n",
    "                      Soil=sandy_loam,\n",
    "                      Crop=wheat,\n",
    "                      InitWC=InitWC)"
   ]
  },
  {
   "cell_type": "markdown",
   "metadata": {
    "id": "3zSA_nKxwt4J"
   },
   "source": [
    "Now first initialize the model using `.initialize()`. The model can then be run forwards N days using `.step(N)`. Most of the time you will want to instead run the model till the end of the simulation which is done by running `.step(till_termination=True)`\n"
   ]
  },
  {
   "cell_type": "code",
   "execution_count": null,
   "metadata": {
    "id": "huZOrZOxXDlj"
   },
   "outputs": [],
   "source": [
    "# initilize model\n",
    "model.initialize()\n",
    "# run model till termination\n",
    "model.step(till_termination=True)"
   ]
  },
  {
   "cell_type": "markdown",
   "metadata": {
    "id": "k33-Kb6l8jg4"
   },
   "source": [
    "Once the model has finished running, four different output files will be produced. The `Flux` output shows daily water flux variables such as total water storage. The `Water` output shows daily water storage in each compartment. The `Growth` output details daily crop variables such as canopy cover. The `Final` output lists the final Yield and total Irrigation for each season. These outputs can be accessed through the cell below. Use `.head(N)` to view the first `N` rows. Full details on the output files can be found in Appendix E."
   ]
  },
  {
   "cell_type": "code",
   "execution_count": null,
   "metadata": {
    "colab": {
     "base_uri": "https://localhost:8080/",
     "height": 204
    },
    "id": "CsD30D0_psHY",
    "outputId": "df2261eb-30c2-40d5-867d-da38c7f812ac"
   },
   "outputs": [],
   "source": [
    "# model.Outputs.Flux.head()\n",
    "# model.Outputs.Water.head()\n",
    "# model.Outputs.Growth.head()\n",
    "model.Outputs.Final.head()"
   ]
  },
  {
   "cell_type": "markdown",
   "metadata": {
    "id": "m4l7TRHAsr3O"
   },
   "source": [
    "Congratulations, you have run your first AquaCrop-OSPy model. As a final example, let's create and run another model with a different soil type and compare the results. "
   ]
  },
  {
   "cell_type": "code",
   "execution_count": null,
   "metadata": {
    "id": "sv230V0lFCtX"
   },
   "outputs": [],
   "source": [
    "# combine into aquacrop model and specify start and end simulation date\n",
    "model_clay = AquaCropModel(SimStartTime=f'{1979}/10/01',\n",
    "                      SimEndTime=f'{1985}/05/30',\n",
    "                      wdf=weather_data,\n",
    "                      Soil=SoilClass('Clay'),\n",
    "                      Crop=wheat,\n",
    "                      InitWC=InitWC)\n",
    "\n",
    "model_clay.initialize()\n",
    "model_clay.step(till_termination=True)"
   ]
  },
  {
   "cell_type": "markdown",
   "metadata": {
    "id": "abE93UUZ9Ubi"
   },
   "source": [
    "Let's use the pandas library to collate our seasonal yields so we can visualize our results."
   ]
  },
  {
   "cell_type": "code",
   "execution_count": null,
   "metadata": {
    "id": "VQO2RdLOEdyt"
   },
   "outputs": [],
   "source": [
    "import pandas as pd # import pandas library\n",
    "\n",
    "names=['Sandy Loam','Clay']\n",
    "\n",
    "#combine our two output files\n",
    "dflist=[model.Outputs.Final,\n",
    "        model_clay.Outputs.Final] \n",
    "\n",
    "outlist=[]\n",
    "for i in range(len(dflist)): # go through our two output files\n",
    "    temp = pd.DataFrame(dflist[i]['Yield (tonne/ha)']) # extract the seasonal yield data\n",
    "    temp['label']=names[i] # add the soil type label\n",
    "    outlist.append(temp) # save processed results\n",
    "\n",
    "# combine results\n",
    "all_outputs = pd.concat(outlist,axis=0)"
   ]
  },
  {
   "cell_type": "markdown",
   "metadata": {
    "id": "mPtsTDHuGADt"
   },
   "source": [
    "Now we can leverage some of pythons great plotting libraries `seaborn` and `matplotlib` to visualize and compare the yields from the two different soil types."
   ]
  },
  {
   "cell_type": "code",
   "execution_count": null,
   "metadata": {
    "colab": {
     "base_uri": "https://localhost:8080/",
     "height": 465
    },
    "id": "RnyOSRf0EdzF",
    "outputId": "55ffcdfd-2551-4017-a393-6eebc42a4a39"
   },
   "outputs": [],
   "source": [
    "import matplotlib.pyplot as plt\n",
    "import seaborn as sns\n",
    "\n",
    "#create figure\n",
    "fig,ax=plt.subplots(1,1,figsize=(10,7),)\n",
    "\n",
    "# create box plot\n",
    "sns.boxplot(data=all_outputs,x='label',y='Yield (tonne/ha)',ax=ax,)\n",
    "\n",
    "# labels and font sizes\n",
    "ax.tick_params(labelsize=15)\n",
    "ax.set_xlabel(' ')\n",
    "ax.set_ylabel('Yield (tonne/ha)',fontsize=18)"
   ]
  },
  {
   "cell_type": "markdown",
   "metadata": {
    "id": "H_3G-avcE7t2"
   },
   "source": [
    "And this brings an end to Notebook 1. Feel free to edit any of the code cells, import your own weather data, try new soils and crops. \n",
    "\n",
    "In Notebook 2 we use the model to estimate irrigation water demands."
   ]
  },
  {
   "cell_type": "markdown",
   "metadata": {
    "id": "Q8Oeack8mfU4"
   },
   "source": [
    "# Appendix A: Built-in weather files"
   ]
  },
  {
   "cell_type": "markdown",
   "metadata": {
    "id": "BU5dV2SxmfVD"
   },
   "source": [
    "AquaCrop-OSPy includes a number of in-built weather files for different locations around the world, which users can select for model simulations. These have been taken from AquaCrop defaults (with the exception of Champion Nebraska **link**). In-built weather files currently include:\n",
    "\n",
    "\n",
    "1.   Tunis (date) | 'tunis_climate.txt'\n",
    "2.   Brussels (date) | 'brussels_climate.txt'\n",
    "3.   Hyderabad (date) | 'weather_hyd.txt'\n",
    "4.   Champion, Nebraska (date) | 'champion_weather.txt'\n",
    "\n",
    "The filepath to these can be found using the `get_filepath` function and the data can be read in using the `prepare_weather` function."
   ]
  },
  {
   "cell_type": "code",
   "execution_count": null,
   "metadata": {
    "colab": {
     "base_uri": "https://localhost:8080/",
     "height": 466
    },
    "id": "v5tX0PZ2mfVF",
    "outputId": "e1c0174f-d56f-40cc-9767-506b363ab070"
   },
   "outputs": [],
   "source": [
    "# get location of built in weather data file\n",
    "path = get_filepath('hyderabad_climate.txt')\n",
    "# read in weather data file and put into correct format\n",
    "wdf = prepare_weather(path)\n",
    "# show weather data\n",
    "wdf.head()"
   ]
  },
  {
   "cell_type": "markdown",
   "metadata": {
    "id": "lrw9n4Ejowl1"
   },
   "source": [
    "# Appendix B: Custom Soils"
   ]
  },
  {
   "cell_type": "markdown",
   "metadata": {
    "id": "5ZYAeykxSk6Y"
   },
   "source": [
    "Custom soil classes can be created by passing 'custom' as the soil type when creating a `SoilClass`. In the cell below we create a custom soil with a curve number (CN=46) and readily evaporable water (REW=7). Here is a full list of the parameters you can specify:\n",
    "\n",
    "Variable Name | Description | Default\n",
    "--- | --- | ---\n",
    "soilType | Soil classification e.g. 'sandy_loam' | REQUIRED\n",
    "dz | thickness of each soil compartment e.g. 12 compartments of thickness 0.1m | [0.1]*12\n",
    "CalcSHP | Calculate soil hydraulic properties (0 = No, 1 = Yes) | 0\n",
    "AdjREW | Adjust default value for readily evaporable water (0 = No, 1 = Yes) | 1\n",
    "REW | Readily evaporable water (mm) | 9.0\n",
    "CalcCN | Calculate curve number (0 = No, 1 = Yes) | 1\n",
    "CN | Curve Number | 61.0\n",
    "zRes | Depth of restrictive soil layer (negative value if not present) | -999\n",
    " | **The parameters below should not be changed without expert knowledge** | \n",
    "EvapZsurf | Thickness of soil surface skin evaporation layer (m) | 0.04\n",
    "EvapZmin | Minimum thickness of full soil surface evaporation layer (m) | 0.15\n",
    "EvapZmax | Maximum thickness of full soil surface evaporation layer (m) | 0.30\n",
    "Kex | Maximum soil evaporation coefficient | 1.1\n",
    "fevap | Shape factor describing reduction in soil evaporation in stage 2. | 4\n",
    "fWrelExp | Proportional value of Wrel at which soil evaporation layer expands | 0.4\n",
    "fwcc | Maximum coefficient for soil evaporation reduction due to sheltering effect of withered canopy | 50\n",
    "zCN | Thickness of soil surface (m) used to calculate water content to adjust curve number | 0.3\n",
    "zGerm | Thickness of soil surface (m) used to calculate water content for germination | 0.3\n",
    "AdjCN | Adjust curve number for antecedent moisture content (0: No, 1: Yes) | 1\n",
    "fshape_cr | Capillary rise shape factor | 16\n",
    "zTop | Thickness of soil surface layer for water stress comparisons (m) | 0.1\n",
    "\n",
    "\n",
    "\n"
   ]
  },
  {
   "cell_type": "code",
   "execution_count": null,
   "metadata": {
    "id": "Qhnpqi42wJX6"
   },
   "outputs": [],
   "source": [
    "custom = SoilClass('custom',CN=46,REW=7)"
   ]
  },
  {
   "cell_type": "markdown",
   "metadata": {
    "id": "-cgXsG7ixTNB"
   },
   "source": [
    "Soil hydraulic properties are then specified using `.add_layer()`. This function needs the thickness of the soil layer [m] (just the depth of soil profile if only using 1 layer), the water content at Wilting Point [m^3/m^3], Field Capacity [m^3/m^3], Saturation [m^3/m^3], as well as the hydraulic conductivity [mm/day] and soil penetrability [%]."
   ]
  },
  {
   "cell_type": "code",
   "execution_count": null,
   "metadata": {
    "id": "9P6v2sJ3xNmX"
   },
   "outputs": [],
   "source": [
    "custom.add_layer(thickness=custom.zSoil,thWP=0.24,\n",
    "                 thFC=0.40,thS=0.50,Ksat=155,\n",
    "                 penetrability=100)"
   ]
  },
  {
   "cell_type": "markdown",
   "metadata": {
    "id": "C03-phCOyYCL"
   },
   "source": [
    "Soil hydraulic properties can also be specified using the soil textural composition. This is done using the `.add_layer_from_texture()` function. This function needs the soil thickness [m], sand, clay, organic matter content [%], and the penetrability [%]"
   ]
  },
  {
   "cell_type": "code",
   "execution_count": null,
   "metadata": {
    "id": "OHgfs8hQyN4b"
   },
   "outputs": [],
   "source": [
    "custom = SoilClass('custom',CN=46,REW=7)\n",
    "\n",
    "custom.add_layer_from_texture(thickness=custom.zSoil,\n",
    "                              Sand=10,Clay=35,\n",
    "                              OrgMat=2.5,penetrability=100)"
   ]
  },
  {
   "cell_type": "markdown",
   "metadata": {
    "id": "KZL8iIpKy_Qx"
   },
   "source": [
    "To view your custom soil profile simple run the cell below."
   ]
  },
  {
   "cell_type": "code",
   "execution_count": null,
   "metadata": {
    "colab": {
     "base_uri": "https://localhost:8080/",
     "height": 421
    },
    "id": "ls_wkaILzFvH",
    "outputId": "2b136231-f184-4c13-fc64-a42318d6e374"
   },
   "outputs": [],
   "source": [
    "custom.profile"
   ]
  },
  {
   "cell_type": "markdown",
   "metadata": {
    "id": "V9ybhk35zvVc"
   },
   "source": [
    "Both these layer creation methods can be combined together to create multi layered soils. "
   ]
  },
  {
   "cell_type": "code",
   "execution_count": null,
   "metadata": {
    "colab": {
     "base_uri": "https://localhost:8080/",
     "height": 421
    },
    "id": "T7tZ8zW7z9R0",
    "outputId": "94159a05-5f3a-4232-9c7f-57ff8cfcb66f"
   },
   "outputs": [],
   "source": [
    "custom = SoilClass('custom',CN=46,REW=7)\n",
    "\n",
    "custom.add_layer(thickness=0.3,thWP=0.24,\n",
    "                 thFC=0.40,thS=0.50,Ksat=155,\n",
    "                 penetrability=100)\n",
    "\n",
    "custom.add_layer_from_texture(thickness=1.5,\n",
    "                              Sand=10,Clay=35,\n",
    "                              OrgMat=2.5,penetrability=100)\n",
    "\n",
    "custom.profile"
   ]
  },
  {
   "cell_type": "markdown",
   "metadata": {
    "id": "SdJ4dr1_QKgh"
   },
   "source": [
    "In AquaCrop-OSPy, as in AquaCrop and AquaCrop-OS, the soil is split into compartments. By default these are 12 compartments of thickness 0.1m where the bottom layers will expand in order to exceed the maximum crop root depth. \n",
    "\n",
    "This depth (`dz`) can be also be altered by the user by changing the `dz` argument. For example: Lets say we want the top 6 compartments to be 0.1m each and the bottom 6 compartments to be 0.2m each..."
   ]
  },
  {
   "cell_type": "code",
   "execution_count": null,
   "metadata": {
    "id": "Vke4fRhNRHz_"
   },
   "outputs": [],
   "source": [
    "sandy_loam = SoilClass('SandyLoam',dz=[0.1]*6+[0.2]*6)"
   ]
  },
  {
   "cell_type": "markdown",
   "metadata": {
    "id": "bND19_rm0n-6"
   },
   "source": [
    "Similarly default soil types can be adjust by passing in the changed variables."
   ]
  },
  {
   "cell_type": "code",
   "execution_count": null,
   "metadata": {
    "colab": {
     "base_uri": "https://localhost:8080/",
     "height": 204
    },
    "id": "90UavX3G0o15",
    "outputId": "ad4ae02e-6b9a-4815-c11b-d085493e7e6a"
   },
   "outputs": [],
   "source": [
    "local_sandy_loam = SoilClass('SandyLoam',dz=[0.1]*6+[0.2]*6,CN=46,REW=7)\n",
    "local_sandy_loam.profile.head()"
   ]
  },
  {
   "cell_type": "markdown",
   "metadata": {
    "id": "fnHkUFHhYspy"
   },
   "source": [
    "# Apendix C: Custom Crops\n"
   ]
  },
  {
   "cell_type": "markdown",
   "metadata": {
    "id": "axwcRvOyl2dQ"
   },
   "source": [
    "It is more likely that the user will want to modify one of the built in crops (as opposed to modelling a brand new crop. To do this simply pass in the altered parameters when you create the `CropClass`. Any parameters you specify here will override the crop defaults. To model a crop that does not have built in defaults, you can specify the crop type 'custom' and pass in all the parameters listed in the table below."
   ]
  },
  {
   "cell_type": "code",
   "execution_count": null,
   "metadata": {
    "id": "hTTSX25V_6C-"
   },
   "outputs": [],
   "source": [
    "local_wheat = CropClass('Wheat',\n",
    "                        PlantingDate='11/01',\n",
    "                        HarvestDate='06/30',\n",
    "                        CGC = 0.0051,CDC = 0.0035)"
   ]
  },
  {
   "cell_type": "markdown",
   "metadata": {
    "id": "_9U_WZGv_6DH"
   },
   "source": [
    "Below is a full list of the crop parameters that can be altered.\n",
    "\n",
    "Variable Name | Default | Description\n",
    "--- | --- | ---\n",
    "Name | | Crop Name e.ge. 'maize'\n",
    "CropType | | Crop Type (1 = Leafy vegetable, 2 = Root/tuber, 3 = Fruit/grain)\n",
    "PlantMethod | | Planting method (0 = Transplanted, 1 =  Sown)\n",
    "CalendarType | | Calendar Type (1 = Calendar days, 2 = Growing degree days)\n",
    "SwitchGDD | | Convert calendar to GDD mode if inputs are given in calendar days (0 = No; 1 = Yes)\n",
    "PlantingDate | | Planting Date (mm/dd)\n",
    "HarvestDate | | Latest Harvest Date (mm/dd)\n",
    "Emergence  | | Growing degree/Calendar days from sowing to emergence/transplant recovery\n",
    "MaxRooting  | | Growing degree/Calendar days from sowing to maximum rooting\n",
    "Senescence  | | Growing degree/Calendar days from sowing to senescence\n",
    "Maturity  | | Growing degree/Calendar days from sowing to maturity\n",
    "HIstart  | | Growing degree/Calendar days from sowing to start of yield formation\n",
    "Flowering  | | Duration of flowering in growing degree/calendar days (-999 for non-fruit/grain crops)\n",
    "YldForm  | | Duration of yield formation in growing degree/calendar days\n",
    "GDDmethod  | | Growing degree day calculation method\n",
    "Tbase  | | Base temperature (degC) below which growth does not progress\n",
    "Tupp  | | Upper temperature (degC) above which crop development no longer increases\n",
    "PolHeatStress  | | Pollination affected by heat stress (0 = No, 1 = Yes)\n",
    "Tmax_up  | | Maximum air temperature (degC) above which pollination begins to fail\n",
    "Tmax_lo  | | Maximum air temperature (degC) at which pollination completely fails\n",
    "PolColdStress | | Pollination affected by cold stress (0 = No, 1 = Yes)\n",
    "Tmin_up  | | Minimum air temperature (degC) below which pollination begins to fail\n",
    "Tmin_lo  | | Minimum air temperature (degC) at which pollination completely fails\n",
    "TrColdStress  | | Transpiration affected by cold temperature stress (0 = No, 1 = Yes)\n",
    "GDD_up  | | Minimum growing degree days (degC/day) required for full crop transpiration potential\n",
    "GDD_lo | | Growing degree days (degC/day) at which no crop transpiration occurs\n",
    "Zmin  | | Minimum effective rooting depth (m)\n",
    "Zmax  | | Maximum rooting depth (m)\n",
    "fshape_r | | Shape factor describing root expansion\n",
    "SxTopQ  | | Maximum root water extraction at top of the root zone (m3\\/ m3\\/ day)\n",
    "SxBotQ  | | Maximum root water extraction at the bottom of the root zone (m3\\/ m3\\/ day)\n",
    "SeedSize | | Soil surface area (cm2) covered by an individual seedling at 90% emergence\n",
    "PlantPop | | Number of plants per hectare\n",
    "CCx   | | Maximum canopy cover (fraction of soil cover)\n",
    "CDC  | | Canopy decline coefficient (fraction per GDD/calendar day)\n",
    "CGC | | Canopy growth coefficient (fraction per GDD)\n",
    "Kcb  | | Crop coefficient when canopy growth is complete but prior to senescence\n",
    "fage | |  Decline of crop coefficient due to ageing (%/day)\n",
    "WP  | | Water productivity normalized for ET0 and C02 (g/m2)\n",
    "WPy | | Adjustment of water productivity in yield formation stage (% of WP)\n",
    "fsink  | | Crop performance under elevated atmospheric CO2 concentration (%/100)\n",
    "HI0  | | Reference harvest index\n",
    "dHI_pre  | | Possible increase of harvest index due to water stress before flowering (%)\n",
    "a_HI  | | Coefficient describing positive impact on harvest index of restricted vegetative growth during yield formation\n",
    "b_HI | | Coefficient describing negative impact on harvest index of stomatal closure during yield formation\n",
    "dHI0 | | Maximum allowable increase of harvest index above reference value\n",
    "Determinant  | | Crop Determinacy (0 = Indeterminant, 1 = Determinant)\n",
    "exc  | | Excess of potential fruits\n",
    "p_up1 | | Upper soil water depletion threshold for water stress effects on affect canopy expansion\n",
    "p_up2  | | Upper soil water depletion threshold for water stress effects on canopy stomatal control\n",
    "p_up3  | | Upper soil water depletion threshold for water stress effects on canopy senescence\n",
    "p_up4  | | Upper soil water depletion threshold for water stress effects on canopy pollination\n",
    "p_lo1  | | Lower soil water depletion threshold for water stress effects on canopy expansion\n",
    "p_lo2 | | Lower soil water depletion threshold for water stress effects on canopy stomatal control\n",
    "p_lo3 | |  Lower soil water depletion threshold for water stress effects on canopy senescence\n",
    "p_lo4  | | Lower soil water depletion threshold for water stress effects on canopy pollination\n",
    "fshape_w1  | | Shape factor describing water stress effects on canopy expansion\n",
    "fshape_w2 | | Shape factor describing water stress effects on stomatal control\n",
    "fshape_w3  | | Shape factor describing water stress effects on canopy senescence\n",
    "fshape_w4 | | Shape factor describing water stress effects on pollination\n",
    " | | **The paramaters below should not be changed without expert knowledge** \n",
    "fshape_b | 13.8135 | Shape factor describing the reduction in biomass production for insufficient growing degree days\n",
    "PctZmin | 70 | Initial percentage of minimum effective rooting depth\n",
    "fshape_ex | -6 | Shape factor describing the effects of water stress on root expansion\n",
    "ETadj | 1 | Adjustment to water stress thresholds depending on daily ET0 (0 | No, 1 | Yes)\n",
    "Aer | 5 | Vol (%) below saturation at which stress begins to occur due to deficient aeration\n",
    "LagAer | 3 | Number of days lag before aeration stress affects crop growth\n",
    "beta | 12 | Reduction (%) to p_lo3 when early canopy senescence is triggered\n",
    "a_Tr | 1 | Exponent parameter for adjustment of Kcx once senescence is triggered\n",
    "GermThr | 0.2 | Proportion of total water storage needed for crop to germinate\n",
    "CCmin | 0.05 | Minimum canopy size below which yield formation cannot occur\n",
    "MaxFlowPct | 33.3 | Proportion of total flowering time (%) at which peak flowering occurs\n",
    "HIini | 0.01 | Initial harvest index\n",
    "bsted | 0.000138 | WP co2 adjustment parameter given by Steduto et al. 2007\n",
    "bface | 0.001165 | WP co2 adjustment parameter given by FACE experiments\n",
    "\n"
   ]
  },
  {
   "cell_type": "markdown",
   "metadata": {
    "id": "xPslnGHG4je_"
   },
   "source": [
    "# Appendix D: Managment and initial conditions"
   ]
  },
  {
   "cell_type": "markdown",
   "metadata": {
    "id": "n-6lk5wMoj1K"
   },
   "source": [
    "Field management and groundwater conditions can also be specified in an AquaCrop-OSPy with a `FieldMngtClass` and `GWClass` respectively. If these are not specified then they will default to None. "
   ]
  },
  {
   "cell_type": "markdown",
   "metadata": {
    "id": "7eYlR59M4-wW"
   },
   "source": [
    "### Field management"
   ]
  },
  {
   "cell_type": "markdown",
   "metadata": {
    "id": "zzbJF4Ci5jW5"
   },
   "source": [
    "Field Management is specified via the `FieldMngtClass`. These are largely based around the inclusion of either mulches or bunds. Two `FieldMngtClass` objects can be created for the fallow and growing period. The parameters you can specify in a `FieldMngtClass` are:\n",
    "\n",
    "Variable Name | Type | Description | Default\n",
    "--- | --- | --- | ---\n",
    "Mulches| `bool` | Soil surface covered by mulches (True or False) | False\n",
    "MulchPct| `float` |  Area of soil surface covered by mulches (%) | 50\n",
    "fMulch| `float` |  Soil evaporation adjustment factor due to effect of mulches | 0.5\n",
    "Bunds| `bool` |Surface bunds present (True or False) | False\n",
    "zBund| `float` |  Bund height (m) | 0\n",
    "BundWater| `float` |  Initial water height in surface bunds (mm) | 0.\n",
    "CNadj| `bool` | field conditions affect curve number (True or False) | False\n",
    "CNadjPct| `float` |   Change in curve number (positive or negative) (%) | 0\n",
    "SRinhb| `bool` | Management practices fully inhibit surface runoff (True or False) | False\n"
   ]
  },
  {
   "cell_type": "markdown",
   "metadata": {
    "id": "0yfUjkOX5jQ_"
   },
   "source": [
    "In the cell below we create an `AquaCropModel` passing in a `FieldMngtClass` with 100% field covering by mulches. \n",
    "\n"
   ]
  },
  {
   "cell_type": "code",
   "execution_count": null,
   "metadata": {
    "id": "SeGBo3im84eQ"
   },
   "outputs": [],
   "source": [
    "mulches_model = AquaCropModel(SimStartTime=f'{1979}/10/01',\n",
    "                      SimEndTime=f'{1985}/05/30',\n",
    "                      wdf=weather_data,\n",
    "                      Soil=sandy_loam,\n",
    "                      Crop=wheat,\n",
    "                      InitWC=InitWC,\n",
    "                      FieldMngt=FieldMngtClass(Mulches=True,\n",
    "                                               MulchPct=100,\n",
    "                                               fMulch=0.5))\n"
   ]
  },
  {
   "cell_type": "code",
   "execution_count": null,
   "metadata": {
    "id": "aTJkxbj69rGJ"
   },
   "outputs": [],
   "source": [
    "mulches_model.initialize()\n",
    "mulches_model.step(till_termination=True)\n"
   ]
  },
  {
   "cell_type": "code",
   "execution_count": null,
   "metadata": {
    "colab": {
     "base_uri": "https://localhost:8080/",
     "height": 235
    },
    "id": "KSroqlcC90mg",
    "outputId": "e4430da2-6643-4c3a-efb1-5a00ef872a8b"
   },
   "outputs": [],
   "source": [
    "# get final output\n",
    "mulches_model.Outputs.Final"
   ]
  },
  {
   "cell_type": "markdown",
   "metadata": {
    "id": "va4GXkZe5jKa"
   },
   "source": [
    "### Groundwater"
   ]
  },
  {
   "cell_type": "markdown",
   "metadata": {
    "id": "vuKR24R6EGYB"
   },
   "source": [
    "Finally we can take a look at how to specify groundwater depth. This is done via the `GWClass` which takes in the following parameters:\n",
    "\n",
    "Variable Name | Type | Description | Default\n",
    "--- | --- | --- | ---\n",
    "WaterTable| `str` | water table considered 'Y' or 'N' | 'N'\n",
    "Method | `str` | Water table input data = 'Constant' / 'Variable' | 'Constant'\n",
    "dates| `list[str]` | water table observation dates 'YYYYMMDD' | []\n",
    "values| `list[float]` | value at that location | []\n",
    "\n",
    "The `GWClass` needs a list of dates and water table depths. If `Method='Variable'` the water table depth will be linearly interpolated between these dates. The cell below creates a model with a constant groundwater depth of 2m \n"
   ]
  },
  {
   "cell_type": "code",
   "execution_count": null,
   "metadata": {
    "id": "1IRW8n8GCkyA"
   },
   "outputs": [],
   "source": [
    "# constant groundwater depth of 2m\n",
    "gw_model = AquaCropModel(SimStartTime=f'{1979}/10/01',\n",
    "                      SimEndTime=f'{1985}/05/30',\n",
    "                      wdf=weather_data,\n",
    "                      Soil=sandy_loam,\n",
    "                      Crop=wheat,\n",
    "                      InitWC=InitWC,\n",
    "                      Groundwater=GwClass(WaterTable='Y',\n",
    "                                       dates=[f'{1979}/10/01'],\n",
    "                                       values=[2])\n",
    "                    )"
   ]
  },
  {
   "cell_type": "code",
   "execution_count": null,
   "metadata": {
    "id": "Uh8WnBtcCkvg"
   },
   "outputs": [],
   "source": [
    "gw_model.initialize()\n",
    "gw_model.step(till_termination=True)"
   ]
  },
  {
   "cell_type": "code",
   "execution_count": null,
   "metadata": {
    "colab": {
     "base_uri": "https://localhost:8080/",
     "height": 235
    },
    "id": "r-OL3h5o18i1",
    "outputId": "2f4a3837-61e9-4e37-f8e9-5154af20ab09"
   },
   "outputs": [],
   "source": [
    "gw_model.Outputs.Final"
   ]
  },
  {
   "cell_type": "markdown",
   "metadata": {
    "id": "ER2wtEHBpk66"
   },
   "source": [
    "# Appendix E: Output files"
   ]
  },
  {
   "cell_type": "markdown",
   "metadata": {
    "id": "wCbrcp0Fw9dj"
   },
   "source": [
    "There are 4 different outputs produced by the model:\n",
    "\n",
    "\n",
    "1.  Daily Water Flux \n",
    "\n",
    "Variable Name | Unit\n",
    "--- | --- \n",
    "water content | mm\n",
    "groundwater depth | mm\n",
    "surface storage | mm\n",
    "irrigation |  mm\n",
    "infiltration | mm\n",
    "runoff | mm\n",
    "deep percolation | mm\n",
    "capillary rise | mm\n",
    "groundwater inflow | mm\n",
    "actual surface evaporation | mm\n",
    "potential surface evaporation | mm\n",
    "actual transpiration | mm\n",
    "precipitation |  mm\n",
    "\n",
    "\n",
    "2.   Soil-water content in each soil compartment\n",
    "\n",
    "Variable Name | Unit\n",
    "--- | --- \n",
    "compartment water content | mm/mm\n",
    "\n",
    "3.   Crop growth\n",
    "\n",
    "Variable Name | Unit\n",
    "--- | --- \n",
    "growing degree days | -\n",
    "cumulative growing degree days | -\n",
    "root depth | m\n",
    "canopy cover |  -\n",
    "canopy cover (no stress) | -\n",
    "biomass | kg/ha\n",
    "biomass (no stress) | kg/ha\n",
    "harvest index | -\n",
    "adjusted harvest index | -\n",
    "yield | t/ha\n",
    "\n",
    "4.   Final summary (seasonal total)\n",
    "\n",
    "Variable Name | Unit\n",
    "--- | --- \n",
    "yield | t/ha\n",
    "total irrigation | mm\n",
    "\n"
   ]
  },
  {
   "cell_type": "markdown",
   "metadata": {
    "id": "V7hvxkEgxbFI"
   },
   "source": [
    "Use the `.head(N)` command to view the first N entries of the output files below"
   ]
  },
  {
   "cell_type": "code",
   "execution_count": null,
   "metadata": {
    "colab": {
     "base_uri": "https://localhost:8080/",
     "height": 204
    },
    "id": "5s4izYgoxQqi",
    "outputId": "aeb12ac9-9f93-4bab-82cc-5acd26b209a6"
   },
   "outputs": [],
   "source": [
    "model.Outputs.Flux.head()\n",
    "# model.Outputs.Water.head()\n",
    "# model.Outputs.Growth.head(10)\n",
    "# model.Outputs.Final.head()"
   ]
  },
  {
   "cell_type": "code",
   "execution_count": null,
   "metadata": {
    "id": "I9Xt1kRUfTAr"
   },
   "outputs": [],
   "source": []
  },
  {
   "cell_type": "code",
   "execution_count": null,
   "metadata": {},
   "outputs": [],
   "source": []
  }
 ],
 "metadata": {
  "colab": {
   "collapsed_sections": [],
   "name": "AquaCrop-OSPy: Notebook 1.ipynb",
   "provenance": []
  },
  "kernelspec": {
   "display_name": "Python 3",
   "language": "python",
   "name": "python3"
  },
  "language_info": {
   "codemirror_mode": {
    "name": "ipython",
    "version": 3
   },
   "file_extension": ".py",
   "mimetype": "text/x-python",
   "name": "python",
   "nbconvert_exporter": "python",
   "pygments_lexer": "ipython3",
   "version": "3.9.5"
  }
 },
 "nbformat": 4,
 "nbformat_minor": 4
}